{
 "cells": [
  {
   "cell_type": "code",
   "execution_count": 1,
   "metadata": {},
   "outputs": [],
   "source": [
    "%load_ext autoreload\n",
    "%autoreload 2\n",
    "import sys\n",
    "import os\n",
    "import warnings\n",
    "import torch\n",
    "import numpy as np\n",
    "import random\n",
    "\n",
    "warnings.filterwarnings(\"ignore\")\n",
    "\n",
    "sys.path.append(\"../\")\n",
    "\n",
    "\n",
    "def fix_seed(seed):\n",
    "    random.seed(seed)\n",
    "    np.random.seed(seed)\n",
    "    torch.manual_seed(seed)\n",
    "    torch.cuda.manual_seed(seed)\n",
    "\n",
    "seed = 42\n",
    "fix_seed(seed)"
   ]
  },
  {
   "cell_type": "code",
   "execution_count": 2,
   "metadata": {},
   "outputs": [
    {
     "name": "stderr",
     "output_type": "stream",
     "text": [
      "2024-01-17 14:32:35.268331: I tensorflow/core/platform/cpu_feature_guard.cc:193] This TensorFlow binary is optimized with oneAPI Deep Neural Network Library (oneDNN) to use the following CPU instructions in performance-critical operations:  AVX2 FMA\n",
      "To enable them in other operations, rebuild TensorFlow with the appropriate compiler flags.\n",
      "2024-01-17 14:32:35.978752: W tensorflow/compiler/xla/stream_executor/platform/default/dso_loader.cc:64] Could not load dynamic library 'libnvinfer.so.7'; dlerror: libnvinfer.so.7: cannot open shared object file: No such file or directory\n",
      "2024-01-17 14:32:35.978824: W tensorflow/compiler/xla/stream_executor/platform/default/dso_loader.cc:64] Could not load dynamic library 'libnvinfer_plugin.so.7'; dlerror: libnvinfer_plugin.so.7: cannot open shared object file: No such file or directory\n",
      "2024-01-17 14:32:35.978831: W tensorflow/compiler/tf2tensorrt/utils/py_utils.cc:38] TF-TRT Warning: Cannot dlopen some TensorRT libraries. If you would like to use Nvidia GPU with TensorRT, please make sure the missing libraries mentioned above are installed properly.\n"
     ]
    }
   ],
   "source": [
    "from FL_utils import *\n",
    "from FL_evaluation import *\n",
    "\n",
    "from FL_model import create_clf_head, CL_training"
   ]
  },
  {
   "cell_type": "code",
   "execution_count": 3,
   "metadata": {},
   "outputs": [
    {
     "data": {
      "text/plain": [
       "((14624, 23), (14624,))"
      ]
     },
     "execution_count": 3,
     "metadata": {},
     "output_type": "execute_result"
    }
   ],
   "source": [
    "mimic_dir = r'/media/nghia/DATA/DATA/MIMICIII_Grouped'\n",
    "\n",
    "exclude_var_list = ['icustay_id', 'label_death_icu']\n",
    "\n",
    "train_data_mimic, train_target_mimic = get_data(mimic_dir, 'train_24h(min24h).csv',\n",
    "                                                exclude_var_list=exclude_var_list, outcome_var='label_death_icu')\n",
    "test_data_mimic, test_target_mimic = get_data(mimic_dir, 'test_24h(min24h).csv',\n",
    "                                                exclude_var_list=exclude_var_list, outcome_var='label_death_icu')\n",
    "\n",
    "train_data_mimic.shape, train_target_mimic.shape"
   ]
  },
  {
   "cell_type": "code",
   "execution_count": 4,
   "metadata": {},
   "outputs": [
    {
     "data": {
      "text/plain": [
       "((1624, 23), (1624, 1))"
      ]
     },
     "execution_count": 4,
     "metadata": {},
     "output_type": "execute_result"
    }
   ],
   "source": [
    "train_data_mimic_list = []\n",
    "train_target_mimic_list = []\n",
    "num_clients = 9\n",
    "\n",
    "for i in range(num_clients):\n",
    "    train_data_mimic_list.append(train_data_mimic.iloc[int(i*len(train_data_mimic)/num_clients):int((i+1)*len(train_data_mimic)/num_clients)])\n",
    "    train_target_mimic_list.append(train_target_mimic.iloc[int(i*len(train_target_mimic)/num_clients):int((i+1)*len(train_target_mimic)/num_clients)])\n",
    "\n",
    "for i in range(num_clients):\n",
    "    globals()[f'client_data_{i}'] = pd.DataFrame(train_data_mimic_list[i])\n",
    "    globals()[f'client_target_{i}'] = pd.DataFrame(train_target_mimic_list[i])\n",
    "\n",
    "client_data_0.shape, client_target_0.shape"
   ]
  },
  {
   "cell_type": "code",
   "execution_count": 5,
   "metadata": {},
   "outputs": [],
   "source": [
    "input_shape = (23,)\n",
    "latent_dim = 16\n",
    "hidden_units = [128, 64, 32]\n",
    "epsilon = 1e-7\n",
    "num_rounds = 10\n",
    "weight_dir = \"LL_weights_9Clients\"\n",
    "\n",
    "client_data_list = [client_data_0, client_data_1, client_data_2, client_data_3, client_data_4,\n",
    "                    client_data_5, client_data_6, client_data_7, client_data_8]\n",
    "client_target_list = [client_target_0, client_target_1, client_target_2, client_target_3, client_target_4,\n",
    "                      client_target_5, client_target_6, client_target_7, client_target_8]"
   ]
  },
  {
   "cell_type": "code",
   "execution_count": 6,
   "metadata": {},
   "outputs": [
    {
     "name": "stdout",
     "output_type": "stream",
     "text": [
      "start data concatenation\n",
      "start training\n",
      "Epoch 1/10\n",
      "WARNING:tensorflow:From /home/nghia/anaconda3/envs/newRRS/lib/python3.8/site-packages/tensorflow/python/autograph/pyct/static_analysis/liveness.py:83: Analyzer.lamba_check (from tensorflow.python.autograph.pyct.static_analysis.liveness) is deprecated and will be removed after 2023-09-23.\n",
      "Instructions for updating:\n",
      "Lambda fuctions will be no more assumed to be used in the statement where they are used, or at least in the same block. https://github.com/tensorflow/tensorflow/issues/56089\n",
      "  1/457 [..............................] - ETA: 10:24 - loss: 122.7097 - accuracy: 0.0625 - f1_metric: 0.0074 - precision_metric: 0.0039 - recall_metric: 0.0625"
     ]
    },
    {
     "name": "stderr",
     "output_type": "stream",
     "text": [
      "2024-01-17 14:32:39.550976: W tensorflow/compiler/xla/stream_executor/gpu/asm_compiler.cc:115] *** WARNING *** You are using ptxas 10.1.243, which is older than 11.1. ptxas before 11.1 is known to miscompile XLA code, leading to incorrect results or invalid-address errors.\n",
      "\n",
      "You may not need to update to CUDA 11.1; cherry-picking the ptxas binary is often sufficient.\n",
      "2024-01-17 14:32:39.551966: W tensorflow/compiler/xla/stream_executor/gpu/asm_compiler.cc:234] Falling back to the CUDA driver for PTX compilation; ptxas does not support CC 8.6\n",
      "2024-01-17 14:32:39.551975: W tensorflow/compiler/xla/stream_executor/gpu/asm_compiler.cc:237] Used ptxas at ptxas\n",
      "2024-01-17 14:32:39.604418: W tensorflow/compiler/xla/stream_executor/gpu/asm_compiler.cc:115] *** WARNING *** You are using ptxas 10.1.243, which is older than 11.1. ptxas before 11.1 is known to miscompile XLA code, leading to incorrect results or invalid-address errors.\n",
      "\n",
      "You may not need to update to CUDA 11.1; cherry-picking the ptxas binary is often sufficient.\n",
      "2024-01-17 14:32:39.663713: W tensorflow/compiler/xla/stream_executor/gpu/asm_compiler.cc:115] *** WARNING *** You are using ptxas 10.1.243, which is older than 11.1. ptxas before 11.1 is known to miscompile XLA code, leading to incorrect results or invalid-address errors.\n",
      "\n",
      "You may not need to update to CUDA 11.1; cherry-picking the ptxas binary is often sufficient.\n"
     ]
    },
    {
     "name": "stdout",
     "output_type": "stream",
     "text": [
      "457/457 [==============================] - 4s 6ms/step - loss: 15.6692 - accuracy: 0.7132 - f1_metric: 0.7431 - precision_metric: 0.8567 - recall_metric: 0.7132\n",
      "Epoch 2/10\n",
      "457/457 [==============================] - 3s 6ms/step - loss: 1.4922 - accuracy: 0.9164 - f1_metric: 0.9173 - precision_metric: 0.9203 - recall_metric: 0.9164\n",
      "Epoch 3/10\n",
      "457/457 [==============================] - 3s 6ms/step - loss: 0.5915 - accuracy: 0.9287 - f1_metric: 0.9232 - precision_metric: 0.9199 - recall_metric: 0.9287\n",
      "Epoch 4/10\n",
      "457/457 [==============================] - 3s 6ms/step - loss: 0.3307 - accuracy: 0.9441 - f1_metric: 0.9303 - precision_metric: 0.9186 - recall_metric: 0.9441\n",
      "Epoch 5/10\n",
      "457/457 [==============================] - 3s 6ms/step - loss: 0.2659 - accuracy: 0.9497 - f1_metric: 0.9327 - precision_metric: 0.9174 - recall_metric: 0.9497\n",
      "Epoch 6/10\n",
      "457/457 [==============================] - 3s 6ms/step - loss: 0.2490 - accuracy: 0.9512 - f1_metric: 0.9328 - precision_metric: 0.9159 - recall_metric: 0.9512\n",
      "Epoch 7/10\n",
      "457/457 [==============================] - 3s 7ms/step - loss: 0.2256 - accuracy: 0.9533 - f1_metric: 0.9338 - precision_metric: 0.9158 - recall_metric: 0.9533\n",
      "Epoch 8/10\n",
      "457/457 [==============================] - 3s 7ms/step - loss: 0.2106 - accuracy: 0.9544 - f1_metric: 0.9347 - precision_metric: 0.9168 - recall_metric: 0.9544\n",
      "Epoch 9/10\n",
      "457/457 [==============================] - 3s 6ms/step - loss: 0.2052 - accuracy: 0.9549 - f1_metric: 0.9346 - precision_metric: 0.9159 - recall_metric: 0.9549\n",
      "Epoch 10/10\n",
      "457/457 [==============================] - 3s 7ms/step - loss: 0.1982 - accuracy: 0.9549 - f1_metric: 0.9343 - precision_metric: 0.9152 - recall_metric: 0.9549\n",
      "start data concatenation\n",
      "start training\n",
      "Epoch 1/10\n",
      "457/457 [==============================] - 3s 6ms/step - loss: 0.1927 - accuracy: 0.9553 - f1_metric: 0.9345 - precision_metric: 0.9153 - recall_metric: 0.9553\n",
      "Epoch 2/10\n",
      "457/457 [==============================] - 3s 7ms/step - loss: 0.1917 - accuracy: 0.9554 - f1_metric: 0.9345 - precision_metric: 0.9151 - recall_metric: 0.9554\n",
      "Epoch 3/10\n",
      "457/457 [==============================] - 3s 7ms/step - loss: 0.1860 - accuracy: 0.9558 - f1_metric: 0.9349 - precision_metric: 0.9157 - recall_metric: 0.9558\n",
      "Epoch 4/10\n",
      "457/457 [==============================] - 3s 6ms/step - loss: 0.1861 - accuracy: 0.9560 - f1_metric: 0.9351 - precision_metric: 0.9158 - recall_metric: 0.9560\n",
      "Epoch 5/10\n",
      "457/457 [==============================] - 3s 6ms/step - loss: 0.1800 - accuracy: 0.9556 - f1_metric: 0.9347 - precision_metric: 0.9155 - recall_metric: 0.9556\n",
      "Epoch 6/10\n",
      "457/457 [==============================] - 3s 6ms/step - loss: 0.1771 - accuracy: 0.9558 - f1_metric: 0.9348 - precision_metric: 0.9152 - recall_metric: 0.9558\n",
      "Epoch 7/10\n",
      "457/457 [==============================] - 3s 6ms/step - loss: 0.1735 - accuracy: 0.9560 - f1_metric: 0.9349 - precision_metric: 0.9154 - recall_metric: 0.9560\n",
      "Epoch 8/10\n",
      "457/457 [==============================] - 3s 6ms/step - loss: 0.1722 - accuracy: 0.9560 - f1_metric: 0.9351 - precision_metric: 0.9158 - recall_metric: 0.9560\n",
      "Epoch 9/10\n",
      "457/457 [==============================] - 3s 6ms/step - loss: 0.1707 - accuracy: 0.9560 - f1_metric: 0.9351 - precision_metric: 0.9159 - recall_metric: 0.9560\n",
      "Epoch 10/10\n",
      "457/457 [==============================] - 3s 6ms/step - loss: 0.1712 - accuracy: 0.9560 - f1_metric: 0.9350 - precision_metric: 0.9156 - recall_metric: 0.9560\n",
      "start data concatenation\n",
      "start training\n",
      "Epoch 1/10\n",
      "457/457 [==============================] - 3s 7ms/step - loss: 0.1671 - accuracy: 0.9560 - f1_metric: 0.9350 - precision_metric: 0.9156 - recall_metric: 0.9560\n",
      "Epoch 2/10\n",
      "457/457 [==============================] - 3s 6ms/step - loss: 0.1703 - accuracy: 0.9560 - f1_metric: 0.9349 - precision_metric: 0.9153 - recall_metric: 0.9560\n",
      "Epoch 3/10\n",
      "457/457 [==============================] - 3s 7ms/step - loss: 0.1695 - accuracy: 0.9560 - f1_metric: 0.9349 - precision_metric: 0.9155 - recall_metric: 0.9560\n",
      "Epoch 4/10\n",
      "457/457 [==============================] - 3s 6ms/step - loss: 0.1662 - accuracy: 0.9560 - f1_metric: 0.9349 - precision_metric: 0.9153 - recall_metric: 0.9560\n",
      "Epoch 5/10\n",
      "457/457 [==============================] - 3s 6ms/step - loss: 0.1673 - accuracy: 0.9560 - f1_metric: 0.9349 - precision_metric: 0.9154 - recall_metric: 0.9560\n",
      "Epoch 6/10\n",
      "457/457 [==============================] - 3s 6ms/step - loss: 0.1657 - accuracy: 0.9560 - f1_metric: 0.9349 - precision_metric: 0.9153 - recall_metric: 0.9560\n",
      "Epoch 7/10\n",
      "457/457 [==============================] - 3s 7ms/step - loss: 0.1654 - accuracy: 0.9560 - f1_metric: 0.9349 - precision_metric: 0.9153 - recall_metric: 0.9560\n",
      "Epoch 8/10\n",
      "457/457 [==============================] - 3s 6ms/step - loss: 0.1672 - accuracy: 0.9560 - f1_metric: 0.9349 - precision_metric: 0.9153 - recall_metric: 0.9560\n",
      "Epoch 9/10\n",
      "457/457 [==============================] - 3s 6ms/step - loss: 0.1651 - accuracy: 0.9560 - f1_metric: 0.9348 - precision_metric: 0.9151 - recall_metric: 0.9560\n",
      "Epoch 10/10\n",
      "457/457 [==============================] - 3s 6ms/step - loss: 0.1673 - accuracy: 0.9560 - f1_metric: 0.9349 - precision_metric: 0.9153 - recall_metric: 0.9560\n",
      "start data concatenation\n",
      "start training\n",
      "Epoch 1/10\n",
      "457/457 [==============================] - 3s 6ms/step - loss: 0.1642 - accuracy: 0.9560 - f1_metric: 0.9349 - precision_metric: 0.9153 - recall_metric: 0.9560\n",
      "Epoch 2/10\n",
      "457/457 [==============================] - 3s 6ms/step - loss: 0.1630 - accuracy: 0.9561 - f1_metric: 0.9350 - precision_metric: 0.9155 - recall_metric: 0.9561\n",
      "Epoch 3/10\n",
      "457/457 [==============================] - 3s 6ms/step - loss: 0.1619 - accuracy: 0.9560 - f1_metric: 0.9349 - precision_metric: 0.9153 - recall_metric: 0.9560\n",
      "Epoch 4/10\n",
      "457/457 [==============================] - 3s 6ms/step - loss: 0.1638 - accuracy: 0.9560 - f1_metric: 0.9351 - precision_metric: 0.9158 - recall_metric: 0.9560\n",
      "Epoch 5/10\n",
      "457/457 [==============================] - 3s 6ms/step - loss: 0.1641 - accuracy: 0.9561 - f1_metric: 0.9352 - precision_metric: 0.9158 - recall_metric: 0.9561\n",
      "Epoch 6/10\n",
      "457/457 [==============================] - 3s 7ms/step - loss: 0.1650 - accuracy: 0.9562 - f1_metric: 0.9352 - precision_metric: 0.9158 - recall_metric: 0.9562\n",
      "Epoch 7/10\n",
      "457/457 [==============================] - 3s 7ms/step - loss: 0.1632 - accuracy: 0.9562 - f1_metric: 0.9353 - precision_metric: 0.9159 - recall_metric: 0.9562\n",
      "Epoch 8/10\n",
      "457/457 [==============================] - 3s 6ms/step - loss: 0.1633 - accuracy: 0.9563 - f1_metric: 0.9355 - precision_metric: 0.9165 - recall_metric: 0.9563\n",
      "Epoch 9/10\n",
      "457/457 [==============================] - 3s 6ms/step - loss: 0.1628 - accuracy: 0.9560 - f1_metric: 0.9350 - precision_metric: 0.9156 - recall_metric: 0.9560\n",
      "Epoch 10/10\n",
      "457/457 [==============================] - 3s 6ms/step - loss: 0.1635 - accuracy: 0.9562 - f1_metric: 0.9352 - precision_metric: 0.9159 - recall_metric: 0.9562\n",
      "start data concatenation\n",
      "start training\n",
      "Epoch 1/10\n",
      "457/457 [==============================] - 3s 6ms/step - loss: 0.1615 - accuracy: 0.9562 - f1_metric: 0.9352 - precision_metric: 0.9160 - recall_metric: 0.9562\n",
      "Epoch 2/10\n",
      "457/457 [==============================] - 3s 6ms/step - loss: 0.1634 - accuracy: 0.9561 - f1_metric: 0.9351 - precision_metric: 0.9157 - recall_metric: 0.9561\n",
      "Epoch 3/10\n",
      "457/457 [==============================] - 3s 6ms/step - loss: 0.1623 - accuracy: 0.9562 - f1_metric: 0.9354 - precision_metric: 0.9163 - recall_metric: 0.9562\n",
      "Epoch 4/10\n",
      "457/457 [==============================] - 3s 6ms/step - loss: 0.1634 - accuracy: 0.9563 - f1_metric: 0.9354 - precision_metric: 0.9162 - recall_metric: 0.9563\n",
      "Epoch 5/10\n",
      "457/457 [==============================] - 3s 6ms/step - loss: 0.1615 - accuracy: 0.9562 - f1_metric: 0.9353 - precision_metric: 0.9160 - recall_metric: 0.9562\n",
      "Epoch 6/10\n",
      "457/457 [==============================] - 3s 6ms/step - loss: 0.1651 - accuracy: 0.9561 - f1_metric: 0.9351 - precision_metric: 0.9157 - recall_metric: 0.9561\n",
      "Epoch 7/10\n",
      "457/457 [==============================] - 3s 6ms/step - loss: 0.1625 - accuracy: 0.9562 - f1_metric: 0.9352 - precision_metric: 0.9159 - recall_metric: 0.9562\n",
      "Epoch 8/10\n",
      "457/457 [==============================] - 3s 6ms/step - loss: 0.1617 - accuracy: 0.9561 - f1_metric: 0.9351 - precision_metric: 0.9159 - recall_metric: 0.9561\n",
      "Epoch 9/10\n",
      "457/457 [==============================] - 3s 6ms/step - loss: 0.1627 - accuracy: 0.9562 - f1_metric: 0.9352 - precision_metric: 0.9160 - recall_metric: 0.9562\n",
      "Epoch 10/10\n",
      "457/457 [==============================] - 3s 6ms/step - loss: 0.1619 - accuracy: 0.9563 - f1_metric: 0.9355 - precision_metric: 0.9167 - recall_metric: 0.9563\n",
      "start data concatenation\n",
      "start training\n",
      "Epoch 1/10\n",
      "457/457 [==============================] - 3s 6ms/step - loss: 0.1635 - accuracy: 0.9562 - f1_metric: 0.9354 - precision_metric: 0.9165 - recall_metric: 0.9562\n",
      "Epoch 2/10\n",
      "457/457 [==============================] - 3s 6ms/step - loss: 0.1623 - accuracy: 0.9562 - f1_metric: 0.9353 - precision_metric: 0.9162 - recall_metric: 0.9562\n",
      "Epoch 3/10\n",
      "457/457 [==============================] - 3s 6ms/step - loss: 0.1621 - accuracy: 0.9562 - f1_metric: 0.9353 - precision_metric: 0.9160 - recall_metric: 0.9562\n",
      "Epoch 4/10\n",
      "457/457 [==============================] - 3s 6ms/step - loss: 0.1625 - accuracy: 0.9563 - f1_metric: 0.9355 - precision_metric: 0.9163 - recall_metric: 0.9563\n",
      "Epoch 5/10\n",
      "457/457 [==============================] - 3s 6ms/step - loss: 0.1632 - accuracy: 0.9562 - f1_metric: 0.9352 - precision_metric: 0.9161 - recall_metric: 0.9562\n",
      "Epoch 6/10\n",
      "457/457 [==============================] - 3s 6ms/step - loss: 0.1620 - accuracy: 0.9562 - f1_metric: 0.9353 - precision_metric: 0.9161 - recall_metric: 0.9562\n",
      "Epoch 7/10\n",
      "457/457 [==============================] - 3s 6ms/step - loss: 0.1615 - accuracy: 0.9562 - f1_metric: 0.9353 - precision_metric: 0.9159 - recall_metric: 0.9562\n",
      "Epoch 8/10\n",
      "457/457 [==============================] - 3s 7ms/step - loss: 0.1647 - accuracy: 0.9562 - f1_metric: 0.9353 - precision_metric: 0.9160 - recall_metric: 0.9562\n",
      "Epoch 9/10\n",
      "457/457 [==============================] - 3s 7ms/step - loss: 0.1615 - accuracy: 0.9560 - f1_metric: 0.9350 - precision_metric: 0.9155 - recall_metric: 0.9560\n",
      "Epoch 10/10\n",
      "457/457 [==============================] - 3s 6ms/step - loss: 0.1616 - accuracy: 0.9561 - f1_metric: 0.9353 - precision_metric: 0.9162 - recall_metric: 0.9561\n",
      "start data concatenation\n",
      "start training\n",
      "Epoch 1/10\n",
      "457/457 [==============================] - 3s 6ms/step - loss: 0.1633 - accuracy: 0.9563 - f1_metric: 0.9354 - precision_metric: 0.9162 - recall_metric: 0.9563\n",
      "Epoch 2/10\n",
      "457/457 [==============================] - 3s 6ms/step - loss: 0.1614 - accuracy: 0.9564 - f1_metric: 0.9354 - precision_metric: 0.9160 - recall_metric: 0.9564\n",
      "Epoch 3/10\n",
      "457/457 [==============================] - 3s 6ms/step - loss: 0.1638 - accuracy: 0.9562 - f1_metric: 0.9352 - precision_metric: 0.9161 - recall_metric: 0.9562\n",
      "Epoch 4/10\n",
      "457/457 [==============================] - 3s 6ms/step - loss: 0.1648 - accuracy: 0.9565 - f1_metric: 0.9359 - precision_metric: 0.9173 - recall_metric: 0.9565\n",
      "Epoch 5/10\n",
      "457/457 [==============================] - 3s 6ms/step - loss: 0.1619 - accuracy: 0.9562 - f1_metric: 0.9354 - precision_metric: 0.9162 - recall_metric: 0.9562\n",
      "Epoch 6/10\n",
      "457/457 [==============================] - 3s 6ms/step - loss: 0.1622 - accuracy: 0.9561 - f1_metric: 0.9351 - precision_metric: 0.9157 - recall_metric: 0.9561\n",
      "Epoch 7/10\n",
      "457/457 [==============================] - 3s 6ms/step - loss: 0.1638 - accuracy: 0.9562 - f1_metric: 0.9353 - precision_metric: 0.9160 - recall_metric: 0.9562\n",
      "Epoch 8/10\n",
      "457/457 [==============================] - 3s 6ms/step - loss: 0.1623 - accuracy: 0.9564 - f1_metric: 0.9355 - precision_metric: 0.9163 - recall_metric: 0.9564\n",
      "Epoch 9/10\n",
      "457/457 [==============================] - 3s 6ms/step - loss: 0.1614 - accuracy: 0.9562 - f1_metric: 0.9354 - precision_metric: 0.9162 - recall_metric: 0.9562\n",
      "Epoch 10/10\n",
      "457/457 [==============================] - 3s 6ms/step - loss: 0.1629 - accuracy: 0.9562 - f1_metric: 0.9353 - precision_metric: 0.9160 - recall_metric: 0.9562\n",
      "start data concatenation\n",
      "start training\n",
      "Epoch 1/10\n",
      "457/457 [==============================] - 3s 6ms/step - loss: 0.1620 - accuracy: 0.9560 - f1_metric: 0.9351 - precision_metric: 0.9159 - recall_metric: 0.9560\n",
      "Epoch 2/10\n",
      "457/457 [==============================] - 3s 6ms/step - loss: 0.1624 - accuracy: 0.9562 - f1_metric: 0.9352 - precision_metric: 0.9158 - recall_metric: 0.9562\n",
      "Epoch 3/10\n",
      "457/457 [==============================] - 3s 7ms/step - loss: 0.1623 - accuracy: 0.9561 - f1_metric: 0.9352 - precision_metric: 0.9159 - recall_metric: 0.9561\n",
      "Epoch 4/10\n",
      "457/457 [==============================] - 3s 7ms/step - loss: 0.1622 - accuracy: 0.9563 - f1_metric: 0.9355 - precision_metric: 0.9163 - recall_metric: 0.9563\n",
      "Epoch 5/10\n",
      "457/457 [==============================] - 3s 7ms/step - loss: 0.1640 - accuracy: 0.9562 - f1_metric: 0.9353 - precision_metric: 0.9161 - recall_metric: 0.9562\n",
      "Epoch 6/10\n",
      "457/457 [==============================] - 3s 7ms/step - loss: 0.1631 - accuracy: 0.9561 - f1_metric: 0.9351 - precision_metric: 0.9158 - recall_metric: 0.9561\n",
      "Epoch 7/10\n",
      "457/457 [==============================] - 3s 7ms/step - loss: 0.1614 - accuracy: 0.9562 - f1_metric: 0.9353 - precision_metric: 0.9162 - recall_metric: 0.9562\n",
      "Epoch 8/10\n",
      "457/457 [==============================] - 3s 7ms/step - loss: 0.1627 - accuracy: 0.9563 - f1_metric: 0.9355 - precision_metric: 0.9165 - recall_metric: 0.9563\n",
      "Epoch 9/10\n",
      "457/457 [==============================] - 3s 7ms/step - loss: 0.1631 - accuracy: 0.9560 - f1_metric: 0.9353 - precision_metric: 0.9164 - recall_metric: 0.9560\n",
      "Epoch 10/10\n",
      "457/457 [==============================] - 3s 6ms/step - loss: 0.1610 - accuracy: 0.9563 - f1_metric: 0.9355 - precision_metric: 0.9165 - recall_metric: 0.9563\n",
      "start data concatenation\n",
      "start training\n",
      "Epoch 1/10\n",
      "457/457 [==============================] - 3s 6ms/step - loss: 0.1621 - accuracy: 0.9564 - f1_metric: 0.9357 - precision_metric: 0.9172 - recall_metric: 0.9564\n",
      "Epoch 2/10\n",
      "457/457 [==============================] - 3s 6ms/step - loss: 0.1626 - accuracy: 0.9562 - f1_metric: 0.9353 - precision_metric: 0.9161 - recall_metric: 0.9562\n",
      "Epoch 3/10\n",
      "457/457 [==============================] - 3s 6ms/step - loss: 0.1644 - accuracy: 0.9564 - f1_metric: 0.9356 - precision_metric: 0.9167 - recall_metric: 0.9564\n",
      "Epoch 4/10\n",
      "457/457 [==============================] - 3s 6ms/step - loss: 0.1620 - accuracy: 0.9562 - f1_metric: 0.9353 - precision_metric: 0.9161 - recall_metric: 0.9562\n",
      "Epoch 5/10\n",
      "457/457 [==============================] - 3s 6ms/step - loss: 0.1634 - accuracy: 0.9562 - f1_metric: 0.9354 - precision_metric: 0.9165 - recall_metric: 0.9562\n",
      "Epoch 6/10\n",
      "457/457 [==============================] - 3s 6ms/step - loss: 0.1627 - accuracy: 0.9564 - f1_metric: 0.9357 - precision_metric: 0.9168 - recall_metric: 0.9564\n",
      "Epoch 7/10\n",
      "457/457 [==============================] - 3s 6ms/step - loss: 0.1628 - accuracy: 0.9562 - f1_metric: 0.9353 - precision_metric: 0.9162 - recall_metric: 0.9562\n",
      "Epoch 8/10\n",
      "457/457 [==============================] - 3s 6ms/step - loss: 0.1640 - accuracy: 0.9562 - f1_metric: 0.9353 - precision_metric: 0.9160 - recall_metric: 0.9562\n",
      "Epoch 9/10\n",
      "457/457 [==============================] - 3s 6ms/step - loss: 0.1627 - accuracy: 0.9563 - f1_metric: 0.9353 - precision_metric: 0.9158 - recall_metric: 0.9563\n",
      "Epoch 10/10\n",
      "457/457 [==============================] - 3s 6ms/step - loss: 0.1641 - accuracy: 0.9561 - f1_metric: 0.9353 - precision_metric: 0.9162 - recall_metric: 0.9561\n"
     ]
    }
   ],
   "source": [
    "global_clf = CL_training(create_clf_head(input_shape), client_data_list,\n",
    "                         client_target_list, weight_dir, 32, 10)"
   ]
  },
  {
   "cell_type": "code",
   "execution_count": 7,
   "metadata": {},
   "outputs": [
    {
     "name": "stdout",
     "output_type": "stream",
     "text": [
      "115/115 [==============================] - 0s 645us/step\n",
      "Accuracy:  0.9559748427672956\n",
      "Precision:  0.9138879000039555\n",
      "Recall:  0.9559748427672956\n",
      "F1 score:  0.9344577241198002\n",
      "AUC:  0.820581107778899\n",
      "Average precision score:  0.2362975260579854\n"
     ]
    }
   ],
   "source": [
    "y_pred_global, y_label_global = get_predictions(global_clf, test_data_mimic)\n",
    "\n",
    "evaluation(test_target_mimic, y_label_global, y_pred_global)"
   ]
  },
  {
   "cell_type": "code",
   "execution_count": 8,
   "metadata": {},
   "outputs": [
    {
     "data": {
      "image/png": "[encoded data removed]",
      "text/plain": [
       "<Figure size 1080x720 with 2 Axes>"
      ]
     },
     "metadata": {
      "needs_background": "light"
     },
     "output_type": "display_data"
    },
    {
     "name": "stdout",
     "output_type": "stream",
     "text": [
      "f1 score 0.1766:\n",
      "f2 score 0.3355:\n",
      "precision 0.9139:\n",
      "recall 0.9560:\n",
      "AUPRC 0.2205:\n",
      "AUROC 0.8206:\n",
      "Acc 0.9560:\n",
      "                   ________________________\n",
      "                  |  Classification Report |\n",
      "                   ‾‾‾‾‾‾‾‾‾‾‾‾‾‾‾‾‾‾‾‾‾‾‾‾\n",
      "              precision    recall  f1-score   support\n",
      "\n",
      "           0       0.96      1.00      0.98      3496\n",
      "           1       0.50      0.01      0.01       161\n",
      "\n",
      "    accuracy                           0.96      3657\n",
      "   macro avg       0.73      0.50      0.49      3657\n",
      "weighted avg       0.94      0.96      0.93      3657\n",
      "\n"
     ]
    }
   ],
   "source": [
    "bnr_rp(test_target_mimic, y_pred_global, y_label_global, labels=[0, 1])"
   ]
  },
  {
   "cell_type": "code",
   "execution_count": null,
   "metadata": {},
   "outputs": [],
   "source": []
  }
 ],
 "metadata": {
  "kernelspec": {
   "display_name": "newRRS",
   "language": "python",
   "name": "python3"
  },
  "language_info": {
   "codemirror_mode": {
    "name": "ipython",
    "version": 3
   },
   "file_extension": ".py",
   "mimetype": "text/x-python",
   "name": "python",
   "nbconvert_exporter": "python",
   "pygments_lexer": "ipython3",
   "version": "3.8.13"
  }
 },
 "nbformat": 4,
 "nbformat_minor": 2
}
